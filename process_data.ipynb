{
 "cells": [
  {
   "cell_type": "code",
   "execution_count": 15,
   "metadata": {
    "collapsed": false
   },
   "outputs": [],
   "source": [
    "import numpy as np, cPickle, sys, re, pandas as pd\n",
    "from collections import defaultdict\n",
    "import gensim"
   ]
  },
  {
   "cell_type": "markdown",
   "metadata": {},
   "source": [
    "## Formats\n",
    "\n",
    "- `mr.p`\n",
    "\n",
    "```\n",
    "[ revs, W, W2, word_idx_map, vocab ]\n",
    "```\n",
    "\n",
    "- `revs`: `{'num_words', 'split', 'text', 'y'}`\n",
    "- `W`: word2vec vectors (numpy array: `n_vocab * d`)\n",
    "- `W2`: random vectors (numpy array: `n_vocab * d`)\n",
    "- `word_idx_map`: word index map: `{'word': id}`\n",
    "- `vocab`: vocabularies: `{'word': frequency}`"
   ]
  },
  {
   "cell_type": "code",
   "execution_count": 2,
   "metadata": {
    "collapsed": true
   },
   "outputs": [],
   "source": [
    "def build_data_cv(data_folder, cv=10, clean_string=True):\n",
    "    \"\"\"\n",
    "    Loads data and split into 10 folds.\n",
    "    \"\"\"\n",
    "    revs = []\n",
    "    pos_file = data_folder[0]\n",
    "    neg_file = data_folder[1]\n",
    "    vocab = defaultdict(float)\n",
    "    with open(pos_file, \"rb\") as f:\n",
    "        for line in f:       \n",
    "            rev = []\n",
    "            rev.append(line.strip())\n",
    "            if clean_string:\n",
    "                orig_rev = clean_str(\" \".join(rev))\n",
    "            else:\n",
    "                orig_rev = \" \".join(rev).lower()\n",
    "            words = set(orig_rev.split())\n",
    "            for word in words:\n",
    "                vocab[word] += 1\n",
    "            datum  = {\"y\":1, \n",
    "                      \"text\": orig_rev,                             \n",
    "                      \"num_words\": len(orig_rev.split()),\n",
    "                      \"split\": np.random.randint(0,cv)}\n",
    "            revs.append(datum)\n",
    "    with open(neg_file, \"rb\") as f:\n",
    "        for line in f:       \n",
    "            rev = []\n",
    "            rev.append(line.strip())\n",
    "            if clean_string:\n",
    "                orig_rev = clean_str(\" \".join(rev))\n",
    "            else:\n",
    "                orig_rev = \" \".join(rev).lower()\n",
    "            words = set(orig_rev.split())\n",
    "            for word in words:\n",
    "                vocab[word] += 1\n",
    "            datum  = {\"y\":0, \n",
    "                      \"text\": orig_rev,                             \n",
    "                      \"num_words\": len(orig_rev.split()),\n",
    "                      \"split\": np.random.randint(0,cv)}\n",
    "            revs.append(datum)\n",
    "    return revs, vocab"
   ]
  },
  {
   "cell_type": "code",
   "execution_count": 3,
   "metadata": {
    "collapsed": true
   },
   "outputs": [],
   "source": [
    "def get_W(word_vecs, k=300):\n",
    "    \"\"\"\n",
    "    Get word matrix. W[i] is the vector for word indexed by i\n",
    "    \"\"\"\n",
    "    vocab_size = len(word_vecs)\n",
    "    word_idx_map = dict()\n",
    "    W = np.zeros(shape=(vocab_size+1, k), dtype='float32')            \n",
    "    W[0] = np.zeros(k, dtype='float32')\n",
    "    i = 1\n",
    "    for word in word_vecs:\n",
    "        W[i] = word_vecs[word]\n",
    "        word_idx_map[word] = i\n",
    "        i += 1\n",
    "    return W, word_idx_map"
   ]
  },
  {
   "cell_type": "code",
   "execution_count": 32,
   "metadata": {
    "collapsed": true
   },
   "outputs": [],
   "source": [
    "def load_bin_vec(gensim_model_fname, vocab):\n",
    "    \"\"\"\n",
    "    Loads 300x1 word vecs from Google (Mikolov) word2vec\n",
    "    \"\"\"\n",
    "    word_vecs = {}\n",
    "#     with open(fname, \"rb\") as f:\n",
    "#         header = f.readline()\n",
    "#         vocab_size, layer1_size = map(int, header.split())\n",
    "#         binary_len = np.dtype('float32').itemsize * layer1_size\n",
    "#         for line in xrange(vocab_size):\n",
    "#             word = []\n",
    "#             while True:\n",
    "#                 ch = f.read(1)\n",
    "#                 if ch == ' ':\n",
    "#                     word = ''.join(word)\n",
    "#                     break\n",
    "#                 if ch != '\\n':\n",
    "#                     word.append(ch)   \n",
    "#             if word in vocab:\n",
    "#                word_vecs[word] = np.fromstring(f.read(binary_len), dtype='float32')  \n",
    "#             else:\n",
    "#                 f.read(binary_len)\n",
    "    model = gensim.models.word2vec.Word2Vec.load(gensim_model_fname)\n",
    "    for word in vocab.keys():\n",
    "        if word not in word_vecs:\n",
    "            try:\n",
    "                word_vecs[word] = model[word.decode('utf-8')]\n",
    "            except KeyError:\n",
    "                word_vecs[word] = 0.5 * np.random.randn(200) # generate random vector with Gaussian Distribution N(0, 0.25)\n",
    "    return word_vecs"
   ]
  },
  {
   "cell_type": "code",
   "execution_count": 5,
   "metadata": {
    "collapsed": true
   },
   "outputs": [],
   "source": [
    "def add_unknown_words(word_vecs, vocab, min_df=1, k=300):\n",
    "    \"\"\"\n",
    "    For words that occur in at least min_df documents, create a separate word vector.    \n",
    "    0.25 is chosen so the unknown vectors have (approximately) same variance as pre-trained ones\n",
    "    \"\"\"\n",
    "    for word in vocab:\n",
    "        if word not in word_vecs and vocab[word] >= min_df:\n",
    "            word_vecs[word] = np.random.uniform(-0.25,0.25,k)"
   ]
  },
  {
   "cell_type": "code",
   "execution_count": 6,
   "metadata": {
    "collapsed": true
   },
   "outputs": [],
   "source": [
    "def clean_str(string, TREC=False):\n",
    "    \"\"\"\n",
    "    Tokenization/string cleaning for all datasets except for SST.\n",
    "    Every dataset is lower cased except for TREC\n",
    "    \"\"\"\n",
    "    string = re.sub(r\"[^A-Za-z0-9(),!?\\'\\`]\", \" \", string)     \n",
    "    string = re.sub(r\"\\'s\", \" \\'s\", string) \n",
    "    string = re.sub(r\"\\'ve\", \" \\'ve\", string) \n",
    "    string = re.sub(r\"n\\'t\", \" n\\'t\", string) \n",
    "    string = re.sub(r\"\\'re\", \" \\'re\", string) \n",
    "    string = re.sub(r\"\\'d\", \" \\'d\", string) \n",
    "    string = re.sub(r\"\\'ll\", \" \\'ll\", string) \n",
    "    string = re.sub(r\",\", \" , \", string) \n",
    "    string = re.sub(r\"!\", \" ! \", string) \n",
    "    string = re.sub(r\"\\(\", \" \\( \", string) \n",
    "    string = re.sub(r\"\\)\", \" \\) \", string) \n",
    "    string = re.sub(r\"\\?\", \" \\? \", string) \n",
    "    string = re.sub(r\"\\s{2,}\", \" \", string)    \n",
    "    return string.strip() if TREC else string.strip().lower()"
   ]
  },
  {
   "cell_type": "code",
   "execution_count": 7,
   "metadata": {
    "collapsed": true
   },
   "outputs": [],
   "source": [
    "def clean_str_sst(string):\n",
    "    \"\"\"\n",
    "    Tokenization/string cleaning for the SST dataset\n",
    "    \"\"\"\n",
    "    string = re.sub(r\"[^A-Za-z0-9(),!?\\'\\`]\", \" \", string)   \n",
    "    string = re.sub(r\"\\s{2,}\", \" \", string)    \n",
    "    return string.strip().lower()"
   ]
  },
  {
   "cell_type": "markdown",
   "metadata": {},
   "source": [
    "### Main process\n",
    "```python\n",
    "w2v_file = sys.argv[1]     \n",
    "data_folder = [\"rt-polarity.pos\",\"rt-polarity.neg\"]    \n",
    "print \"loading data...\",        \n",
    "revs, vocab = build_data_cv(data_folder, cv=10, clean_string=True)\n",
    "max_l = np.max(pd.DataFrame(revs)[\"num_words\"])\n",
    "print \"data loaded!\"\n",
    "print \"number of sentences: \" + str(len(revs))\n",
    "print \"vocab size: \" + str(len(vocab))\n",
    "print \"max sentence length: \" + str(max_l)\n",
    "print \"loading word2vec vectors...\",\n",
    "w2v = load_bin_vec(w2v_file, vocab)\n",
    "print \"word2vec loaded!\"\n",
    "print \"num words already in word2vec: \" + str(len(w2v))\n",
    "add_unknown_words(w2v, vocab)\n",
    "W, word_idx_map = get_W(w2v)\n",
    "rand_vecs = {}\n",
    "add_unknown_words(rand_vecs, vocab)\n",
    "W2, _ = get_W(rand_vecs)\n",
    "cPickle.dump([revs, W, W2, word_idx_map, vocab], open(\"mr.p\", \"wb\"))\n",
    "print \"dataset created!\"\n",
    "```"
   ]
  },
  {
   "cell_type": "code",
   "execution_count": 10,
   "metadata": {
    "collapsed": false
   },
   "outputs": [
    {
     "name": "stdout",
     "output_type": "stream",
     "text": [
      "[{'y': 1, 'text': '\\xe4\\xbb\\x8a\\xe6\\x97\\xa5 \\xe3\\x81\\xaf \\xe3\\x81\\x84\\xe3\\x81\\x84 \\xe5\\xa4\\xa9\\xe6\\xb0\\x97 \\xe3\\x80\\x82', 'split': 3, 'num_words': 5}, {'y': 0, 'text': '\\xe4\\xbb\\x8a\\xe6\\x97\\xa5 \\xe3\\x81\\xaf \\xe6\\x82\\xaa\\xe3\\x81\\x84 \\xe5\\xa4\\xa9\\xe6\\xb0\\x97 \\xe3\\x80\\x82', 'split': 7, 'num_words': 5}]\n",
      "defaultdict(<type 'float'>, {'\\xe4\\xbb\\x8a\\xe6\\x97\\xa5': 2.0, '\\xe3\\x81\\x84\\xe3\\x81\\x84': 1.0, '\\xe5\\xa4\\xa9\\xe6\\xb0\\x97': 2.0, '\\xe6\\x82\\xaa\\xe3\\x81\\x84': 1.0, '\\xe3\\x81\\xaf': 2.0, '\\xe3\\x80\\x82': 2.0})\n"
     ]
    }
   ],
   "source": [
    "data_folder = [\"rt-polarity.pos\",\"rt-polarity.neg\"]\n",
    "revs, vocab = build_data_cv(data_folder, cv=10, clean_string=False)\n",
    "print revs\n",
    "print vocab"
   ]
  },
  {
   "cell_type": "code",
   "execution_count": 11,
   "metadata": {
    "collapsed": false
   },
   "outputs": [
    {
     "data": {
      "text/plain": [
       "5"
      ]
     },
     "execution_count": 11,
     "metadata": {},
     "output_type": "execute_result"
    }
   ],
   "source": [
    "np.max(pd.DataFrame(revs)['num_words'])"
   ]
  },
  {
   "cell_type": "code",
   "execution_count": 33,
   "metadata": {
    "collapsed": false
   },
   "outputs": [
    {
     "data": {
      "text/plain": [
       "['\\xe4\\xbb\\x8a\\xe6\\x97\\xa5',\n",
       " '\\xe3\\x81\\x84\\xe3\\x81\\x84',\n",
       " '\\xe5\\xa4\\xa9\\xe6\\xb0\\x97',\n",
       " '\\xe6\\x82\\xaa\\xe3\\x81\\x84',\n",
       " '\\xe3\\x81\\xaf',\n",
       " '\\xe3\\x80\\x82']"
      ]
     },
     "execution_count": 33,
     "metadata": {},
     "output_type": "execute_result"
    }
   ],
   "source": [
    "w2v = load_bin_vec('../DSRNN/models/wikiDump_size200.w2vModel', vocab)\n",
    "w2v.keys()"
   ]
  },
  {
   "cell_type": "code",
   "execution_count": 36,
   "metadata": {
    "collapsed": true
   },
   "outputs": [],
   "source": [
    "add_unknown_words(w2v, vocab, k=200)"
   ]
  },
  {
   "cell_type": "code",
   "execution_count": 37,
   "metadata": {
    "collapsed": false
   },
   "outputs": [],
   "source": [
    "W, word_idx_map = get_W(w2v, k=200)"
   ]
  },
  {
   "cell_type": "code",
   "execution_count": 40,
   "metadata": {
    "collapsed": true
   },
   "outputs": [],
   "source": [
    "rand_vecs = {}\n",
    "add_unknown_words(rand_vecs, vocab, k=200)"
   ]
  },
  {
   "cell_type": "code",
   "execution_count": 41,
   "metadata": {
    "collapsed": false
   },
   "outputs": [],
   "source": [
    "W2, _ = get_W(rand_vecs, k=200)"
   ]
  },
  {
   "cell_type": "code",
   "execution_count": 43,
   "metadata": {
    "collapsed": false
   },
   "outputs": [
    {
     "data": {
      "text/plain": [
       "{'\\xe3\\x80\\x82': 6,\n",
       " '\\xe3\\x81\\x84\\xe3\\x81\\x84': 2,\n",
       " '\\xe3\\x81\\xaf': 5,\n",
       " '\\xe4\\xbb\\x8a\\xe6\\x97\\xa5': 1,\n",
       " '\\xe5\\xa4\\xa9\\xe6\\xb0\\x97': 3,\n",
       " '\\xe6\\x82\\xaa\\xe3\\x81\\x84': 4}"
      ]
     },
     "execution_count": 43,
     "metadata": {},
     "output_type": "execute_result"
    }
   ],
   "source": [
    "word_idx_map"
   ]
  },
  {
   "cell_type": "code",
   "execution_count": null,
   "metadata": {
    "collapsed": true
   },
   "outputs": [],
   "source": []
  }
 ],
 "metadata": {
  "kernelspec": {
   "display_name": "Python 2",
   "language": "python",
   "name": "python2"
  },
  "language_info": {
   "codemirror_mode": {
    "name": "ipython",
    "version": 2
   },
   "file_extension": ".py",
   "mimetype": "text/x-python",
   "name": "python",
   "nbconvert_exporter": "python",
   "pygments_lexer": "ipython2",
   "version": "2.7.10"
  }
 },
 "nbformat": 4,
 "nbformat_minor": 0
}
